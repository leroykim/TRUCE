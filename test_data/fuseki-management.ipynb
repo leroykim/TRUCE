{
 "cells": [
  {
   "cell_type": "code",
   "execution_count": 1,
   "id": "69e88171",
   "metadata": {
    "scrolled": false
   },
   "outputs": [],
   "source": [
    "import os\n",
    "from pathlib import Path\n",
    "from fuseki import DataManager"
   ]
  },
  {
   "cell_type": "code",
   "execution_count": 3,
   "id": "f30e36c9",
   "metadata": {},
   "outputs": [],
   "source": [
    "cwd = os.getcwd()"
   ]
  },
  {
   "cell_type": "code",
   "execution_count": 5,
   "id": "7a6d077d",
   "metadata": {},
   "outputs": [],
   "source": [
    "data_dir = Path(cwd)\n",
    "endpoint_list = []\n",
    "file_name_list = []\n",
    "for i in range(1,6):\n",
    "    endpoint_list.append(f\"http://localhost:303{i}/covid19\")\n",
    "    file_name_list.append(f\"test_covid19_data_{i}.ttl\")"
   ]
  },
  {
   "cell_type": "code",
   "execution_count": 6,
   "id": "5f83ca5b",
   "metadata": {},
   "outputs": [],
   "source": [
    "dm = DataManager(endpoint_list=endpoint_list, data_dir=data_dir, file_list=file_name_list)"
   ]
  },
  {
   "cell_type": "code",
   "execution_count": 7,
   "id": "c7f5aed1",
   "metadata": {},
   "outputs": [
    {
     "data": {
      "text/plain": [
       "{'http://localhost:3031/covid19': '/home/k163/trusted-middleware/test_data/test_covid19_data_1.ttl',\n",
       " 'http://localhost:3032/covid19': '/home/k163/trusted-middleware/test_data/test_covid19_data_2.ttl',\n",
       " 'http://localhost:3033/covid19': '/home/k163/trusted-middleware/test_data/test_covid19_data_3.ttl',\n",
       " 'http://localhost:3034/covid19': '/home/k163/trusted-middleware/test_data/test_covid19_data_4.ttl',\n",
       " 'http://localhost:3035/covid19': '/home/k163/trusted-middleware/test_data/test_covid19_data_5.ttl'}"
      ]
     },
     "execution_count": 7,
     "metadata": {},
     "output_type": "execute_result"
    }
   ],
   "source": [
    "dm.endpoint_file_dict"
   ]
  },
  {
   "cell_type": "code",
   "execution_count": 8,
   "id": "215db768",
   "metadata": {},
   "outputs": [
    {
     "name": "stdout",
     "output_type": "stream",
     "text": [
      "CPU times: user 47.2 ms, sys: 7.9 ms, total: 55.1 ms\n",
      "Wall time: 1.64 s\n"
     ]
    }
   ],
   "source": [
    "%%time\n",
    "dm.reset_default_graph_all()"
   ]
  },
  {
   "cell_type": "code",
   "execution_count": null,
   "id": "1b49a563",
   "metadata": {},
   "outputs": [],
   "source": []
  }
 ],
 "metadata": {
  "kernelspec": {
   "display_name": "Python 3",
   "language": "python",
   "name": "python3"
  },
  "language_info": {
   "codemirror_mode": {
    "name": "ipython",
    "version": 3
   },
   "file_extension": ".py",
   "mimetype": "text/x-python",
   "name": "python",
   "nbconvert_exporter": "python",
   "pygments_lexer": "ipython3",
   "version": "3.9.16"
  },
  "vscode": {
   "interpreter": {
    "hash": "36cf16204b8548560b1c020c4e8fb5b57f0e4c58016f52f2d4be01e192833930"
   }
  }
 },
 "nbformat": 4,
 "nbformat_minor": 5
}
