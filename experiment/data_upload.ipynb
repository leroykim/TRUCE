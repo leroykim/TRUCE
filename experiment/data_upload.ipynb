{
 "cells": [
  {
   "cell_type": "code",
   "execution_count": 8,
   "id": "69e88171",
   "metadata": {
    "scrolled": false
   },
   "outputs": [],
   "source": [
    "import os\n",
    "from pathlib import Path\n",
    "from fuseki import SimpleDataUploader"
   ]
  },
  {
   "cell_type": "code",
   "execution_count": 9,
   "id": "1dedb371",
   "metadata": {},
   "outputs": [],
   "source": [
    "DATA_SIZE = \"100k\""
   ]
  },
  {
   "cell_type": "code",
   "execution_count": 10,
   "id": "8320a3ea",
   "metadata": {},
   "outputs": [
    {
     "name": "stdout",
     "output_type": "stream",
     "text": [
      "../../synthea-rdf/result/100k/\n",
      "http://localhost:3030/covid19_100k/data\n"
     ]
    }
   ],
   "source": [
    "DATA_PATH = f\"../../synthea-rdf/result/{DATA_SIZE}/\"\n",
    "HOST = f\"http://localhost:3030/covid19_{DATA_SIZE}/data\"\n",
    "print(DATA_PATH)\n",
    "print(HOST)"
   ]
  },
  {
   "cell_type": "code",
   "execution_count": 11,
   "id": "f30e36c9",
   "metadata": {},
   "outputs": [],
   "source": [
    "cwd = os.getcwd()\n",
    "data_dir = Path(cwd).joinpath(DATA_PATH)\n",
    "# file_list = os.listdir(Path(data_dir))\n",
    "# file_path_list = list(map(lambda x: str(Path(data_dir).joinpath(x)), file_list))"
   ]
  },
  {
   "cell_type": "code",
   "execution_count": 12,
   "id": "5f83ca5b",
   "metadata": {},
   "outputs": [],
   "source": [
    "dm = SimpleDataUploader(HOST, data_dir)"
   ]
  },
  {
   "cell_type": "code",
   "execution_count": 13,
   "id": "c7f5aed1",
   "metadata": {},
   "outputs": [
    {
     "data": {
      "text/plain": [
       "['/home/paperspace/TRUCE/experiment/../../synthea-rdf/result/100k/claim_1.ttl',\n",
       " '/home/paperspace/TRUCE/experiment/../../synthea-rdf/result/100k/patient.ttl',\n",
       " '/home/paperspace/TRUCE/experiment/../../synthea-rdf/result/100k/immunization_1.ttl',\n",
       " '/home/paperspace/TRUCE/experiment/../../synthea-rdf/result/100k/encounter_0.ttl',\n",
       " '/home/paperspace/TRUCE/experiment/../../synthea-rdf/result/100k/claim_0.ttl',\n",
       " '/home/paperspace/TRUCE/experiment/../../synthea-rdf/result/100k/allergy.ttl',\n",
       " '/home/paperspace/TRUCE/experiment/../../synthea-rdf/result/100k/encounter_1.ttl',\n",
       " '/home/paperspace/TRUCE/experiment/../../synthea-rdf/result/100k/observation_3.ttl',\n",
       " '/home/paperspace/TRUCE/experiment/../../synthea-rdf/result/100k/observation_5.ttl',\n",
       " '/home/paperspace/TRUCE/experiment/../../synthea-rdf/result/100k/payer.ttl',\n",
       " '/home/paperspace/TRUCE/experiment/../../synthea-rdf/result/100k/careplan.ttl',\n",
       " '/home/paperspace/TRUCE/experiment/../../synthea-rdf/result/100k/organization.ttl',\n",
       " '/home/paperspace/TRUCE/experiment/../../synthea-rdf/result/100k/observation_0.ttl',\n",
       " '/home/paperspace/TRUCE/experiment/../../synthea-rdf/result/100k/imaging_study.ttl',\n",
       " '/home/paperspace/TRUCE/experiment/../../synthea-rdf/result/100k/dua.ttl',\n",
       " '/home/paperspace/TRUCE/experiment/../../synthea-rdf/result/100k/immunization_0.ttl',\n",
       " '/home/paperspace/TRUCE/experiment/../../synthea-rdf/result/100k/observation_1.ttl',\n",
       " '/home/paperspace/TRUCE/experiment/../../synthea-rdf/result/100k/procedure.ttl',\n",
       " '/home/paperspace/TRUCE/experiment/../../synthea-rdf/result/100k/supply.ttl',\n",
       " '/home/paperspace/TRUCE/experiment/../../synthea-rdf/result/100k/observation_6.ttl',\n",
       " '/home/paperspace/TRUCE/experiment/../../synthea-rdf/result/100k/observation_4.ttl',\n",
       " '/home/paperspace/TRUCE/experiment/../../synthea-rdf/result/100k/observation_2.ttl',\n",
       " '/home/paperspace/TRUCE/experiment/../../synthea-rdf/result/100k/device.ttl',\n",
       " '/home/paperspace/TRUCE/experiment/../../synthea-rdf/result/100k/trustscore.ttl',\n",
       " '/home/paperspace/TRUCE/experiment/../../synthea-rdf/result/100k/condition.ttl',\n",
       " '/home/paperspace/TRUCE/experiment/../../synthea-rdf/result/100k/provider.ttl',\n",
       " '/home/paperspace/TRUCE/experiment/../../synthea-rdf/result/100k/medication.ttl']"
      ]
     },
     "execution_count": 13,
     "metadata": {},
     "output_type": "execute_result"
    }
   ],
   "source": [
    "dm.file_path_list"
   ]
  },
  {
   "cell_type": "code",
   "execution_count": 14,
   "id": "9dda6fec",
   "metadata": {},
   "outputs": [
    {
     "data": {
      "text/plain": [
       "27"
      ]
     },
     "execution_count": 14,
     "metadata": {},
     "output_type": "execute_result"
    }
   ],
   "source": [
    "len(dm.file_path_list)"
   ]
  },
  {
   "cell_type": "code",
   "execution_count": 15,
   "id": "215db768",
   "metadata": {},
   "outputs": [
    {
     "name": "stdout",
     "output_type": "stream",
     "text": [
      "on 0: claim_1.ttl                                                               \n",
      "on 1: patient.ttl                                                               \n",
      "on 2: immunization_1.ttl                                                        \n",
      "on 3: encounter_0.ttl                                                           \n",
      "on 4: claim_0.ttl                                                               \n",
      "on 5: allergy.ttl                                                               \n",
      "on 6: encounter_1.ttl                                                           \n",
      "on 7: observation_3.ttl                                                         \n",
      "on 8: observation_5.ttl                                                         \n",
      "on 9: payer.ttl                                                                 \n",
      "on 10: careplan.ttl                                                             \n",
      "on 11: organization.ttl                                                         \n",
      "on 12: observation_0.ttl                                                        \n",
      "on 13: imaging_study.ttl                                                        \n",
      "on 14: dua.ttl                                                                  \n",
      "on 15: immunization_0.ttl                                                       \n",
      "on 16: observation_1.ttl                                                        \n",
      "on 17: procedure.ttl                                                            \n",
      "on 18: supply.ttl                                                               \n",
      "on 19: observation_6.ttl                                                        \n",
      "on 20: observation_4.ttl                                                        \n",
      "on 21: observation_2.ttl                                                        \n",
      "on 22: device.ttl                                                               \n",
      "on 23: trustscore.ttl                                                           \n",
      "on 24: condition.ttl                                                            \n",
      "on 25: provider.ttl                                                             \n",
      "on 26: medication.ttl                                                           \n",
      "Uploading files |████████████████████████████████████████| 27/27 [100%] in 20:04\n",
      "CPU times: user 8.7 s, sys: 11.1 s, total: 19.8 s\n",
      "Wall time: 20min 4s\n"
     ]
    }
   ],
   "source": [
    "%%time\n",
    "dm.reset_default_graph_all()"
   ]
  },
  {
   "cell_type": "code",
   "execution_count": null,
   "id": "758955aa",
   "metadata": {},
   "outputs": [],
   "source": []
  }
 ],
 "metadata": {
  "kernelspec": {
   "display_name": "Python 3",
   "language": "python",
   "name": "python3"
  },
  "language_info": {
   "codemirror_mode": {
    "name": "ipython",
    "version": 3
   },
   "file_extension": ".py",
   "mimetype": "text/x-python",
   "name": "python",
   "nbconvert_exporter": "python",
   "pygments_lexer": "ipython3",
   "version": "3.10.6"
  },
  "vscode": {
   "interpreter": {
    "hash": "36cf16204b8548560b1c020c4e8fb5b57f0e4c58016f52f2d4be01e192833930"
   }
  }
 },
 "nbformat": 4,
 "nbformat_minor": 5
}
