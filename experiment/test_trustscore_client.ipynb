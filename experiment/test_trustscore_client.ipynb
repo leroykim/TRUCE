{
 "cells": [
  {
   "cell_type": "code",
   "execution_count": 4,
   "metadata": {},
   "outputs": [],
   "source": [
    "import requests\n",
    "import json\n",
    "from alive_progress import alive_bar"
   ]
  },
  {
   "cell_type": "code",
   "execution_count": 5,
   "metadata": {},
   "outputs": [],
   "source": [
    "# Constants\n",
    "ENDPOINT = \"http://127.0.0.1:5000/api\"\n",
    "USERID = list(range(0, 100))"
   ]
  },
  {
   "cell_type": "code",
   "execution_count": 6,
   "metadata": {},
   "outputs": [
    {
     "data": {
      "text/plain": [
       "100"
      ]
     },
     "execution_count": 6,
     "metadata": {},
     "output_type": "execute_result"
    }
   ],
   "source": [
    "len(USERID)"
   ]
  },
  {
   "cell_type": "code",
   "execution_count": null,
   "metadata": {},
   "outputs": [],
   "source": [
    "def send_query(category, user_id):\n",
    "    payload = {\"category\": category, \"user_id\": user_id}\n",
    "    r = requests.get(ENDPOINT, params=payload)\n",
    "    status_code = r.status_code\n",
    "    if status_code == 200:\n",
    "        return r.json()\n",
    "    else:\n",
    "        return status_code"
   ]
  },
  {
   "cell_type": "code",
   "execution_count": null,
   "metadata": {},
   "outputs": [
    {
     "name": "stdout",
     "output_type": "stream",
     "text": [
      "Sending queries |▊                                       | ▃▁▃ 2/100 [2%] in 21s"
     ]
    }
   ],
   "source": [
    "with alive_bar(len(USERID), force_tty=True, title=\"Sending queries\") as bar:\n",
    "    for i in USERID:\n",
    "        send_query(\"patient\", f\"user_{i}\")\n",
    "        bar()"
   ]
  },
  {
   "cell_type": "code",
   "execution_count": null,
   "metadata": {},
   "outputs": [
    {
     "name": "stdout",
     "output_type": "stream",
     "text": [
      "recipient_policy_check_time: 0.023471598625183106\n"
     ]
    },
    {
     "ename": "ZeroDivisionError",
     "evalue": "division by zero",
     "output_type": "error",
     "traceback": [
      "\u001b[0;31m---------------------------------------------------------------------------\u001b[0m",
      "\u001b[0;31mZeroDivisionError\u001b[0m                         Traceback (most recent call last)",
      "\u001b[0;32m/tmp/ipykernel_3438/3564529872.py\u001b[0m in \u001b[0;36m<cell line: 19>\u001b[0;34m()\u001b[0m\n\u001b[1;32m     17\u001b[0m             }\n\u001b[1;32m     18\u001b[0m    )\n\u001b[0;32m---> 19\u001b[0;31m \u001b[0mget_average_elapsed_time\u001b[0m\u001b[0;34m(\u001b[0m\u001b[0mresult\u001b[0m\u001b[0;34m)\u001b[0m\u001b[0;34m\u001b[0m\u001b[0;34m\u001b[0m\u001b[0m\n\u001b[0m",
      "\u001b[0;32m/tmp/ipykernel_3438/3564529872.py\u001b[0m in \u001b[0;36mget_average_elapsed_time\u001b[0;34m(result)\u001b[0m\n\u001b[1;32m      6\u001b[0m \u001b[0;32mdef\u001b[0m \u001b[0mget_average_elapsed_time\u001b[0m\u001b[0;34m(\u001b[0m\u001b[0mresult\u001b[0m\u001b[0;34m)\u001b[0m\u001b[0;34m:\u001b[0m\u001b[0;34m\u001b[0m\u001b[0;34m\u001b[0m\u001b[0m\n\u001b[1;32m      7\u001b[0m    \u001b[0mprint\u001b[0m\u001b[0;34m(\u001b[0m\u001b[0;34mf'recipient_policy_check_time: {result[\"recipient_policy_check_time\"][0]/result[\"recipient_policy_check_time\"][1]}'\u001b[0m\u001b[0;34m)\u001b[0m\u001b[0;34m\u001b[0m\u001b[0;34m\u001b[0m\u001b[0m\n\u001b[0;32m----> 8\u001b[0;31m    \u001b[0mprint\u001b[0m\u001b[0;34m(\u001b[0m\u001b[0;34mf'custodian_policy_check_time: {result[\"custodian_policy_check_time\"][0]/result[\"custodian_policy_check_time\"][1]}'\u001b[0m\u001b[0;34m)\u001b[0m\u001b[0;34m\u001b[0m\u001b[0;34m\u001b[0m\u001b[0m\n\u001b[0m\u001b[1;32m      9\u001b[0m    \u001b[0mprint\u001b[0m\u001b[0;34m(\u001b[0m\u001b[0;34mf'trust_update_time: {result[\"trust_update_time\"][0]/result[\"trust_update_time\"][1]}'\u001b[0m\u001b[0;34m)\u001b[0m\u001b[0;34m\u001b[0m\u001b[0;34m\u001b[0m\u001b[0m\n\u001b[1;32m     10\u001b[0m    \u001b[0mprint\u001b[0m\u001b[0;34m(\u001b[0m\u001b[0;34mf'query_time: {result[\"query_time\"][0]/result[\"query_time\"][1]}'\u001b[0m\u001b[0;34m)\u001b[0m\u001b[0;34m\u001b[0m\u001b[0;34m\u001b[0m\u001b[0m\n",
      "\u001b[0;31mZeroDivisionError\u001b[0m: division by zero"
     ]
    }
   ],
   "source": [
    "def get_elapsed_time():\n",
    "    r = requests.get(f\"{ENDPOINT}/elapsed_time\")\n",
    "    return r.json()\n",
    "result = get_elapsed_time()\n",
    "\n",
    "def get_average_elapsed_time(result):\n",
    "   print(f'recipient_policy_check_time: {result[\"recipient_policy_check_time\"][0]/result[\"recipient_policy_check_time\"][1]}')\n",
    "   print(f'custodian_policy_check_time: {result[\"custodian_policy_check_time\"][0]/result[\"custodian_policy_check_time\"][1]}')\n",
    "   print(f'trust_update_time: {result[\"trust_update_time\"][0]/result[\"trust_update_time\"][1]}')\n",
    "   print(f'query_time: {result[\"query_time\"][0]/result[\"query_time\"][1]}')\n",
    "   return json.dumps(\n",
    "         {\n",
    "            'recipient_policy_check_time': result['recipient_policy_check_time'][0]/result['recipient_policy_check_time'][1],\n",
    "            'custodian_policy_check_time': result['custodian_policy_check_time'][0]/result['custodian_policy_check_time'][1],\n",
    "            'trust_update_time': result['trust_update_time'][0]/result['trust_update_time'][1],\n",
    "            'query_time': result['query_time'][0]/result['query_time'][1]\n",
    "            }\n",
    "   )\n",
    "get_average_elapsed_time(result)"
   ]
  },
  {
   "cell_type": "code",
   "execution_count": null,
   "metadata": {},
   "outputs": [],
   "source": [
    "# import pandas as pd\n",
    "# NUM_USERS = 100\n",
    "# columns = list(range(0, 100))\n",
    "# index = [f'user_{i}' for i in range(0, int(NUM_USERS))]\n",
    "# TRUST_SCORE_CHANGES_DF = pd.DataFrame(index=index, columns=columns, dtype='float16')"
   ]
  }
 ],
 "metadata": {
  "kernelspec": {
   "display_name": ".venv",
   "language": "python",
   "name": "python3"
  },
  "language_info": {
   "codemirror_mode": {
    "name": "ipython",
    "version": 3
   },
   "file_extension": ".py",
   "mimetype": "text/x-python",
   "name": "python",
   "nbconvert_exporter": "python",
   "pygments_lexer": "ipython3",
   "version": "3.9.13"
  },
  "orig_nbformat": 4
 },
 "nbformat": 4,
 "nbformat_minor": 2
}
